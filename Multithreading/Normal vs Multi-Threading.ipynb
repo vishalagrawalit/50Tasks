{
 "cells": [
  {
   "cell_type": "code",
   "execution_count": 19,
   "metadata": {},
   "outputs": [
    {
     "name": "stdout",
     "output_type": "stream",
     "text": [
      "https://cdn.pixabay.com/photo/2018/06/23/16/22/romanesco-3493007__340.jpg\n",
      "https://cdn.pixabay.com/photo/2018/07/08/14/16/cat-3523992__340.jpg\n",
      "https://cdn.pixabay.com/photo/2018/05/30/15/31/rustic-3441673__340.jpg\n",
      "https://cdn.pixabay.com/photo/2016/06/29/09/28/golf-1486354__340.jpg\n",
      "https://cdn.pixabay.com/photo/2017/11/10/08/10/son-2935723__340.jpg\n",
      "https://cdn.pixabay.com/photo/2018/07/06/13/30/statue-3520416__340.jpg\n",
      "https://cdn.pixabay.com/photo/2018/07/08/15/32/dahlia-3524115__340.jpg\n",
      "https://cdn.pixabay.com/photo/2018/05/07/22/08/sydney-opera-house-3381786__340.jpg\n",
      "https://cdn.pixabay.com/photo/2018/07/05/23/31/ivy-3519431__340.jpg\n",
      "https://cdn.pixabay.com/photo/2017/06/05/14/55/glass-2374311__340.jpg\n",
      "https://cdn.pixabay.com/photo/2018/04/12/11/44/apple-3313225__340.jpg\n",
      "https://cdn.pixabay.com/photo/2017/09/22/09/48/desert-2774945__340.jpg\n",
      "https://cdn.pixabay.com/photo/2017/07/12/22/51/couple-2498660__340.jpg\n",
      "https://cdn.pixabay.com/photo/2016/06/20/03/15/pier-1467984__340.jpg\n",
      "https://cdn.pixabay.com/photo/2018/01/29/10/40/shower-of-sparks-3115784__340.jpg\n",
      "https://cdn.pixabay.com/photo/2017/09/06/20/35/massage-2722936__340.jpg\n",
      "https://cdn.pixabay.com/photo/2018/07/01/20/01/mercedes-3510327__340.jpg\n",
      "https://cdn.pixabay.com/photo/2018/06/28/15/23/soft-fruits-3504149__340.jpg\n",
      "https://cdn.pixabay.com/photo/2018/06/28/17/02/water-lily-3504363__340.jpg\n",
      "https://cdn.pixabay.com/photo/2018/06/29/01/47/piano-3505109__340.jpg\n",
      "39.83912134170532\n"
     ]
    }
   ],
   "source": [
    "from bs4 import BeautifulSoup\n",
    "import requests\n",
    "from urllib.request import urlretrieve\n",
    "import time\n",
    "\n",
    "start_time = time.time()\n",
    "url = \"https://pixabay.com/\"\n",
    "page = requests.get(url)\n",
    "html_code = BeautifulSoup(page.content, \"html.parser\")\n",
    "\n",
    "html_code = html_code.find(\"div\", attrs={\"id\":\"gallery\"})\n",
    "html_code = html_code.find(\"div\", class_=\"flex_grid credits\")\n",
    "data = html_code.find_all(\"a\")\n",
    "\n",
    "for img in data:\n",
    "    download_url = img.find(\"img\")\n",
    "    if download_url!=None and \"https://\" in download_url[\"src\"]:\n",
    "        print(download_url[\"src\"])\n",
    "        urlretrieve(download_url[\"src\"], download_url[\"src\"][-15:])\n",
    "        \n",
    "\n",
    "end_time = time.time()\n",
    "print(end_time - start_time)"
   ]
  },
  {
   "cell_type": "code",
   "execution_count": 30,
   "metadata": {},
   "outputs": [
    {
     "name": "stdout",
     "output_type": "stream",
     "text": [
      "https://cdn.pixabay.com/photo/2018/06/23/16/22/romanesco-3493007__340.jpghttps://cdn.pixabay.com/photo/2017/09/22/09/48/desert-2774945__340.jpg\n",
      "\n",
      "https://cdn.pixabay.com/photo/2017/07/12/22/51/couple-2498660__340.jpg\n",
      "https://cdn.pixabay.com/photo/2018/07/08/14/16/cat-3523992__340.jpg\n",
      "https://cdn.pixabay.com/photo/2016/06/20/03/15/pier-1467984__340.jpg\n",
      "https://cdn.pixabay.com/photo/2018/05/30/15/31/rustic-3441673__340.jpg\n",
      "https://cdn.pixabay.com/photo/2018/01/29/10/40/shower-of-sparks-3115784__340.jpg\n",
      "https://cdn.pixabay.com/photo/2016/06/29/09/28/golf-1486354__340.jpg\n",
      "https://cdn.pixabay.com/photo/2017/09/06/20/35/massage-2722936__340.jpg\n",
      "https://cdn.pixabay.com/photo/2017/11/10/08/10/son-2935723__340.jpg\n",
      "https://cdn.pixabay.com/photo/2018/07/01/20/01/mercedes-3510327__340.jpg\n",
      "https://cdn.pixabay.com/photo/2018/07/06/13/30/statue-3520416__340.jpg\n",
      "https://cdn.pixabay.com/photo/2018/06/28/15/23/soft-fruits-3504149__340.jpg\n",
      "https://cdn.pixabay.com/photo/2018/07/08/15/32/dahlia-3524115__340.jpg\n",
      "https://cdn.pixabay.com/photo/2018/06/28/17/02/water-lily-3504363__340.jpg\n",
      "https://cdn.pixabay.com/photo/2018/05/07/22/08/sydney-opera-house-3381786__340.jpg\n",
      "https://cdn.pixabay.com/photo/2018/06/29/01/47/piano-3505109__340.jpg\n",
      "https://cdn.pixabay.com/photo/2018/07/05/23/31/ivy-3519431__340.jpg\n",
      "https://cdn.pixabay.com/photo/2017/06/05/14/55/glass-2374311__340.jpg\n",
      "https://cdn.pixabay.com/photo/2018/04/12/11/44/apple-3313225__340.jpg\n",
      "25.859185218811035\n"
     ]
    }
   ],
   "source": [
    "from bs4 import BeautifulSoup\n",
    "import requests\n",
    "from urllib.request import urlretrieve\n",
    "import time\n",
    "import threading\n",
    "\n",
    "start_time = time.time()\n",
    "urls =[]\n",
    "\n",
    "url = \"https://pixabay.com/\"\n",
    "page = requests.get(url)\n",
    "html_code = BeautifulSoup(page.content, \"html.parser\")\n",
    "\n",
    "html_code = html_code.find(\"div\", attrs={\"id\":\"gallery\"})\n",
    "html_code = html_code.find(\"div\", class_=\"flex_grid credits\")\n",
    "data = html_code.find_all(\"a\")\n",
    "\n",
    "for img in data:\n",
    "    download_url = img.find(\"img\")\n",
    "    if download_url!=None and \"https://\" in download_url[\"src\"]:\n",
    "        urls.append(download_url[\"src\"])      \n",
    "\n",
    "def download_image(urls):\n",
    "    for image_url in urls: \n",
    "        print(image_url)\n",
    "        urlretrieve(image_url, image_url[-12:])\n",
    "        \n",
    "        \n",
    "thread_1 = threading.Thread(target=download_image, args=(urls[:11],))\n",
    "thread_2 = threading.Thread(target=download_image, args=(urls[11:],))\n",
    "\n",
    "thread_1.start()\n",
    "thread_2.start()\n",
    "\n",
    "thread_1.join()\n",
    "thread_2.join()\n",
    "\n",
    "end_time = time.time()\n",
    "\n",
    "print(end_time - start_time)"
   ]
  },
  {
   "cell_type": "code",
   "execution_count": null,
   "metadata": {},
   "outputs": [],
   "source": []
  }
 ],
 "metadata": {
  "kernelspec": {
   "display_name": "Python 3",
   "language": "python",
   "name": "python3"
  },
  "language_info": {
   "codemirror_mode": {
    "name": "ipython",
    "version": 3
   },
   "file_extension": ".py",
   "mimetype": "text/x-python",
   "name": "python",
   "nbconvert_exporter": "python",
   "pygments_lexer": "ipython3",
   "version": "3.6.4"
  }
 },
 "nbformat": 4,
 "nbformat_minor": 2
}
